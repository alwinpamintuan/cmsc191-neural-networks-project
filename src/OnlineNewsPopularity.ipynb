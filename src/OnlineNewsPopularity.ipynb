{
 "cells": [
  {
   "cell_type": "code",
   "execution_count": 1,
   "metadata": {},
   "outputs": [
    {
     "name": "stderr",
     "output_type": "stream",
     "text": [
      "2022-01-08 14:15:46.344638: W tensorflow/stream_executor/platform/default/dso_loader.cc:64] Could not load dynamic library 'libcudart.so.11.0'; dlerror: libcudart.so.11.0: cannot open shared object file: No such file or directory\n",
      "2022-01-08 14:15:46.344680: I tensorflow/stream_executor/cuda/cudart_stub.cc:29] Ignore above cudart dlerror if you do not have a GPU set up on your machine.\n"
     ]
    }
   ],
   "source": [
    "import math\n",
    "import matplotlib.pyplot as plt\n",
    "import numpy as np\n",
    "from numpy.random import seed\n",
    "seed(1)\n",
    "\n",
    "import pandas as pd\n",
    "\n",
    "import tensorflow\n",
    "tensorflow.random.set_seed(1)\n",
    "from tensorflow.keras.layers import Dense\n",
    "from tensorflow.keras.models import Sequential\n",
    "from tensorflow.keras.wrappers.scikit_learn import KerasClassifier\n",
    "from tensorflow.keras.models import load_model, save_model\n",
    "\n",
    "from sklearn.model_selection import train_test_split\n",
    "from sklearn.preprocessing import MinMaxScaler\n",
    "from sklearn.model_selection import GridSearchCV\n",
    "from sklearn.metrics import confusion_matrix"
   ]
  },
  {
   "cell_type": "code",
   "execution_count": 2,
   "metadata": {},
   "outputs": [
    {
     "data": {
      "image/png": "[encoded data removed]",
      "text/plain": [
       "<Figure size 432x288 with 1 Axes>"
      ]
     },
     "metadata": {
      "needs_background": "light"
     },
     "output_type": "display_data"
    }
   ],
   "source": [
    "df = pd.read_csv('data/OnlineNewsPopularity.csv', header=0)\n",
    "plt.plot(df['shares'])\n",
    "plt.savefig('images/shares.jpg')"
   ]
  },
  {
   "cell_type": "code",
   "execution_count": 3,
   "metadata": {},
   "outputs": [],
   "source": [
    "# Dropping non-predictive attributes\n",
    "df.drop(['url', 'timedelta'], axis='columns', inplace=True)"
   ]
  },
  {
   "cell_type": "code",
   "execution_count": 6,
   "metadata": {},
   "outputs": [
    {
     "data": {
      "text/plain": [
       "0    20082\n",
       "1    19562\n",
       "Name: is_popular, dtype: int64"
      ]
     },
     "execution_count": 6,
     "metadata": {},
     "output_type": "execute_result"
    }
   ],
   "source": [
    "# Classifying popular posts\n",
    "med = df['shares'].median()\n",
    "df['is_popular'] = df.apply(lambda row: 1 if row.shares > med else 0, axis=1)\n",
    "df['is_popular'].value_counts()"
   ]
  },
  {
   "cell_type": "code",
   "execution_count": 7,
   "metadata": {},
   "outputs": [],
   "source": [
    "# Splitting the dataset into training and test sets\n",
    "X = df.drop(['is_popular', 'shares'], axis='columns')\n",
    "y = df[['is_popular']]\n",
    "X_train, X_val, y_train, y_val = train_test_split(X, y, test_size=0.2)"
   ]
  },
  {
   "cell_type": "code",
   "execution_count": 8,
   "metadata": {},
   "outputs": [
    {
     "name": "stdout",
     "output_type": "stream",
     "text": [
      "MinMaxScaler()\n",
      "MinMaxScaler()\n",
      "MinMaxScaler()\n",
      "MinMaxScaler()\n"
     ]
    }
   ],
   "source": [
    "# Scaling numerical features\n",
    "y_train=np.reshape(y_train, (-1,1))\n",
    "y_val=np.reshape(y_val, (-1,1))\n",
    "\n",
    "scaler_x = MinMaxScaler()\n",
    "scaler_y = MinMaxScaler()\n",
    "\n",
    "print(scaler_x.fit(X_train))\n",
    "xtrain_scale = scaler_x.transform(X_train)\n",
    "\n",
    "print(scaler_x.fit(X_val))\n",
    "xval_scale = scaler_x.transform(X_val)\n",
    "\n",
    "print(scaler_y.fit(y_train))\n",
    "ytrain_scale = scaler_y.transform(y_train)\n",
    "\n",
    "print(scaler_y.fit(y_val))\n",
    "yval_scale = scaler_y.transform(y_val)"
   ]
  },
  {
   "cell_type": "code",
   "execution_count": 22,
   "metadata": {},
   "outputs": [],
   "source": [
    "# Model architecture\n",
    "# (default hidden_layer_units=30, optimizer=adam)\n",
    "def create_model(neurons=30, optimizer='adam', init_mode='uniform'):\n",
    "    model = Sequential()\n",
    "    model.add(Dense(58, input_dim=58, kernel_initializer=init_mode, activation='relu'))\n",
    "    model.add(Dense(30, activation='relu', kernel_initializer=init_mode))\n",
    "    model.add(Dense(1, activation='sigmoid', kernel_initializer=init_mode))\n",
    "    \n",
    "    model.compile(loss='binary_crossentropy', optimizer=optimizer, metrics=['accuracy']) \n",
    "    return model\n",
    "\n",
    "# Graph accuracy per epoch\n",
    "def graph_acc(history, img_name='model', save=False, model=None):\n",
    "\n",
    "    # Accuracy\n",
    "    plt.plot(history.history['accuracy'])\n",
    "    plt.plot(history.history['val_accuracy'])\n",
    "    plt.title('model accuracy')\n",
    "    plt.ylabel('accuracy')\n",
    "    plt.xlabel('epoch')\n",
    "    plt.legend(['train', 'validation'], loc='upper left')\n",
    "\n",
    "    if(save==True):\n",
    "        assert model\n",
    "        plt.savefig(f\"images/{img_name}.jpg\")\n",
    "        save_model(model, f\"{img_name}.h5\", overwrite=True, include_optimizer=True)\n",
    "\n",
    "    plt.show()\n",
    "\n",
    "# Verify model.evaluate() accuracy score and compute precision, recall, and f1\n",
    "def score(model):\n",
    "    \n",
    "    # Evaluate model accuracy using model.evaluate()\n",
    "    pred_train = model.predict(xtrain_scale)\n",
    "    scores = model.evaluate(xtrain_scale, ytrain_scale, verbose=0)\n",
    "    print(f\"Accuracy on training data: {scores[1]}\\nError on training data: {1-scores[1]}\\n\")   \n",
    " \n",
    "    pred_test = model.predict(xval_scale)\n",
    "    scores2 = model.evaluate(xval_scale, yval_scale, verbose=0)\n",
    "    print(f\"Accuracy on testing data: {scores2[1]}\\nError on testing data: {1-scores2[1]}\\n\")   \n",
    "\n",
    "    # Compute for accuracy, precision, recall, f1\n",
    "    y_predicted = model.predict(xval_scale) > 0.5\n",
    "    tn, fp, fn, tp = confusion_matrix(yval_scale, y_predicted).ravel()\n",
    "\n",
    "    accuracy = (tp+tn)/(tn+fp+fn+tp)\n",
    "    precision = tp/(tp+fp)\n",
    "    recall = tp/(tp+fn)\n",
    "    f1 = 2*((precision*recall)/(precision+recall))\n",
    "\n",
    "    print(f\"Accuracy: {accuracy}\\nPrecision: {precision}\\nRecall: {recall}\\nF1-score: {f1}\")"
   ]
  },
  {
   "cell_type": "code",
   "execution_count": 11,
   "metadata": {},
   "outputs": [
    {
     "name": "stderr",
     "output_type": "stream",
     "text": [
      "2022-01-08 10:25:43.484330: W tensorflow/stream_executor/platform/default/dso_loader.cc:64] Could not load dynamic library 'libcuda.so.1'; dlerror: libcuda.so.1: cannot open shared object file: No such file or directory\n",
      "2022-01-08 10:25:43.484379: W tensorflow/stream_executor/cuda/cuda_driver.cc:269] failed call to cuInit: UNKNOWN ERROR (303)\n",
      "2022-01-08 10:25:43.484408: I tensorflow/stream_executor/cuda/cuda_diagnostics.cc:156] kernel driver does not appear to be running on this host (fedora): /proc/driver/nvidia/version does not exist\n",
      "2022-01-08 10:25:43.484722: I tensorflow/core/platform/cpu_feature_guard.cc:151] This TensorFlow binary is optimized with oneAPI Deep Neural Network Library (oneDNN) to use the following CPU instructions in performance-critical operations:  AVX2 FMA\n",
      "To enable them in other operations, rebuild TensorFlow with the appropriate compiler flags.\n"
     ]
    },
    {
     "name": "stdout",
     "output_type": "stream",
     "text": [
      "Epoch 1/100\n",
      "744/744 [==============================] - 2s 2ms/step - loss: 0.6536 - accuracy: 0.6147 - val_loss: 0.6422 - val_accuracy: 0.6355\n",
      "Epoch 2/100\n",
      "744/744 [==============================] - 1s 2ms/step - loss: 0.6421 - accuracy: 0.6336 - val_loss: 0.6383 - val_accuracy: 0.6385\n",
      "Epoch 3/100\n",
      "744/744 [==============================] - 1s 2ms/step - loss: 0.6390 - accuracy: 0.6373 - val_loss: 0.6370 - val_accuracy: 0.6436\n",
      "Epoch 4/100\n",
      "744/744 [==============================] - 1s 2ms/step - loss: 0.6372 - accuracy: 0.6377 - val_loss: 0.6327 - val_accuracy: 0.6442\n",
      "Epoch 5/100\n",
      "744/744 [==============================] - 1s 2ms/step - loss: 0.6346 - accuracy: 0.6425 - val_loss: 0.6317 - val_accuracy: 0.6508\n",
      "Epoch 6/100\n",
      "744/744 [==============================] - 1s 2ms/step - loss: 0.6329 - accuracy: 0.6418 - val_loss: 0.6291 - val_accuracy: 0.6508\n",
      "Epoch 7/100\n",
      "744/744 [==============================] - 1s 2ms/step - loss: 0.6319 - accuracy: 0.6434 - val_loss: 0.6385 - val_accuracy: 0.6436\n",
      "Epoch 8/100\n",
      "744/744 [==============================] - 1s 2ms/step - loss: 0.6296 - accuracy: 0.6455 - val_loss: 0.6267 - val_accuracy: 0.6557\n",
      "Epoch 9/100\n",
      "744/744 [==============================] - 1s 2ms/step - loss: 0.6283 - accuracy: 0.6452 - val_loss: 0.6270 - val_accuracy: 0.6592\n",
      "Epoch 10/100\n",
      "744/744 [==============================] - 1s 2ms/step - loss: 0.6271 - accuracy: 0.6466 - val_loss: 0.6236 - val_accuracy: 0.6577\n",
      "Epoch 11/100\n",
      "744/744 [==============================] - 1s 2ms/step - loss: 0.6268 - accuracy: 0.6465 - val_loss: 0.6312 - val_accuracy: 0.6438\n",
      "Epoch 12/100\n",
      "744/744 [==============================] - 1s 2ms/step - loss: 0.6250 - accuracy: 0.6494 - val_loss: 0.6244 - val_accuracy: 0.6571\n",
      "Epoch 13/100\n",
      "744/744 [==============================] - 1s 2ms/step - loss: 0.6233 - accuracy: 0.6508 - val_loss: 0.6226 - val_accuracy: 0.6639\n",
      "Epoch 14/100\n",
      "744/744 [==============================] - 1s 2ms/step - loss: 0.6219 - accuracy: 0.6497 - val_loss: 0.6242 - val_accuracy: 0.6553\n",
      "Epoch 15/100\n",
      "744/744 [==============================] - 1s 2ms/step - loss: 0.6220 - accuracy: 0.6510 - val_loss: 0.6215 - val_accuracy: 0.6597\n",
      "Epoch 16/100\n",
      "744/744 [==============================] - 1s 2ms/step - loss: 0.6208 - accuracy: 0.6543 - val_loss: 0.6215 - val_accuracy: 0.6602\n",
      "Epoch 17/100\n",
      "744/744 [==============================] - 1s 2ms/step - loss: 0.6190 - accuracy: 0.6545 - val_loss: 0.6216 - val_accuracy: 0.6592\n",
      "Epoch 18/100\n",
      "744/744 [==============================] - 1s 2ms/step - loss: 0.6180 - accuracy: 0.6553 - val_loss: 0.6192 - val_accuracy: 0.6646\n",
      "Epoch 19/100\n",
      "744/744 [==============================] - 1s 2ms/step - loss: 0.6169 - accuracy: 0.6551 - val_loss: 0.6229 - val_accuracy: 0.6551\n",
      "Epoch 20/100\n",
      "744/744 [==============================] - 1s 2ms/step - loss: 0.6157 - accuracy: 0.6566 - val_loss: 0.6213 - val_accuracy: 0.6567\n",
      "Epoch 21/100\n",
      "744/744 [==============================] - 1s 2ms/step - loss: 0.6152 - accuracy: 0.6583 - val_loss: 0.6187 - val_accuracy: 0.6625\n",
      "Epoch 22/100\n",
      "744/744 [==============================] - 1s 2ms/step - loss: 0.6136 - accuracy: 0.6588 - val_loss: 0.6215 - val_accuracy: 0.6601\n",
      "Epoch 23/100\n",
      "744/744 [==============================] - 1s 2ms/step - loss: 0.6125 - accuracy: 0.6590 - val_loss: 0.6198 - val_accuracy: 0.6602\n",
      "Epoch 24/100\n",
      "744/744 [==============================] - 1s 2ms/step - loss: 0.6120 - accuracy: 0.6598 - val_loss: 0.6213 - val_accuracy: 0.6575\n",
      "Epoch 25/100\n",
      "744/744 [==============================] - 1s 2ms/step - loss: 0.6106 - accuracy: 0.6626 - val_loss: 0.6223 - val_accuracy: 0.6580\n",
      "Epoch 26/100\n",
      "744/744 [==============================] - 1s 2ms/step - loss: 0.6094 - accuracy: 0.6624 - val_loss: 0.6238 - val_accuracy: 0.6547\n",
      "Epoch 27/100\n",
      "744/744 [==============================] - 1s 2ms/step - loss: 0.6082 - accuracy: 0.6656 - val_loss: 0.6206 - val_accuracy: 0.6580\n",
      "Epoch 28/100\n",
      "744/744 [==============================] - 1s 2ms/step - loss: 0.6077 - accuracy: 0.6670 - val_loss: 0.6192 - val_accuracy: 0.6582\n",
      "Epoch 29/100\n",
      "744/744 [==============================] - 1s 2ms/step - loss: 0.6070 - accuracy: 0.6645 - val_loss: 0.6180 - val_accuracy: 0.6601\n",
      "Epoch 30/100\n",
      "744/744 [==============================] - 1s 2ms/step - loss: 0.6066 - accuracy: 0.6670 - val_loss: 0.6180 - val_accuracy: 0.6595\n",
      "Epoch 31/100\n",
      "744/744 [==============================] - 1s 2ms/step - loss: 0.6052 - accuracy: 0.6661 - val_loss: 0.6176 - val_accuracy: 0.6625\n",
      "Epoch 32/100\n",
      "744/744 [==============================] - 1s 2ms/step - loss: 0.6042 - accuracy: 0.6688 - val_loss: 0.6251 - val_accuracy: 0.6462\n",
      "Epoch 33/100\n",
      "744/744 [==============================] - 1s 2ms/step - loss: 0.6038 - accuracy: 0.6696 - val_loss: 0.6197 - val_accuracy: 0.6595\n",
      "Epoch 34/100\n",
      "744/744 [==============================] - 1s 2ms/step - loss: 0.6017 - accuracy: 0.6675 - val_loss: 0.6292 - val_accuracy: 0.6467\n",
      "Epoch 35/100\n",
      "744/744 [==============================] - 1s 2ms/step - loss: 0.6015 - accuracy: 0.6701 - val_loss: 0.6194 - val_accuracy: 0.6595\n",
      "Epoch 36/100\n",
      "744/744 [==============================] - 1s 2ms/step - loss: 0.6015 - accuracy: 0.6699 - val_loss: 0.6194 - val_accuracy: 0.6630\n",
      "Epoch 37/100\n",
      "744/744 [==============================] - 1s 2ms/step - loss: 0.5997 - accuracy: 0.6703 - val_loss: 0.6205 - val_accuracy: 0.6588\n",
      "Epoch 38/100\n",
      "744/744 [==============================] - 1s 2ms/step - loss: 0.5983 - accuracy: 0.6715 - val_loss: 0.6229 - val_accuracy: 0.6546\n",
      "Epoch 39/100\n",
      "744/744 [==============================] - 1s 2ms/step - loss: 0.5987 - accuracy: 0.6719 - val_loss: 0.6226 - val_accuracy: 0.6542\n",
      "Epoch 40/100\n",
      "744/744 [==============================] - 1s 2ms/step - loss: 0.5970 - accuracy: 0.6742 - val_loss: 0.6200 - val_accuracy: 0.6604\n",
      "Epoch 41/100\n",
      "744/744 [==============================] - 1s 2ms/step - loss: 0.5970 - accuracy: 0.6745 - val_loss: 0.6235 - val_accuracy: 0.6605\n",
      "Epoch 42/100\n",
      "744/744 [==============================] - 1s 2ms/step - loss: 0.5953 - accuracy: 0.6751 - val_loss: 0.6278 - val_accuracy: 0.6547\n",
      "Epoch 43/100\n",
      "744/744 [==============================] - 1s 2ms/step - loss: 0.5956 - accuracy: 0.6768 - val_loss: 0.6221 - val_accuracy: 0.6610\n",
      "Epoch 44/100\n",
      "744/744 [==============================] - 1s 2ms/step - loss: 0.5931 - accuracy: 0.6754 - val_loss: 0.6246 - val_accuracy: 0.6542\n",
      "Epoch 45/100\n",
      "744/744 [==============================] - 1s 2ms/step - loss: 0.5927 - accuracy: 0.6760 - val_loss: 0.6262 - val_accuracy: 0.6616\n",
      "Epoch 46/100\n",
      "744/744 [==============================] - 1s 2ms/step - loss: 0.5923 - accuracy: 0.6796 - val_loss: 0.6262 - val_accuracy: 0.6575\n",
      "Epoch 47/100\n",
      "744/744 [==============================] - 1s 2ms/step - loss: 0.5916 - accuracy: 0.6798 - val_loss: 0.6264 - val_accuracy: 0.6605\n",
      "Epoch 48/100\n",
      "744/744 [==============================] - 1s 2ms/step - loss: 0.5909 - accuracy: 0.6777 - val_loss: 0.6234 - val_accuracy: 0.6543\n",
      "Epoch 49/100\n",
      "744/744 [==============================] - 1s 2ms/step - loss: 0.5898 - accuracy: 0.6792 - val_loss: 0.6274 - val_accuracy: 0.6515\n",
      "Epoch 50/100\n",
      "744/744 [==============================] - 1s 2ms/step - loss: 0.5888 - accuracy: 0.6813 - val_loss: 0.6263 - val_accuracy: 0.6585\n",
      "Epoch 51/100\n",
      "744/744 [==============================] - 1s 2ms/step - loss: 0.5887 - accuracy: 0.6797 - val_loss: 0.6243 - val_accuracy: 0.6547\n",
      "Epoch 52/100\n",
      "744/744 [==============================] - 1s 2ms/step - loss: 0.5881 - accuracy: 0.6808 - val_loss: 0.6283 - val_accuracy: 0.6538\n",
      "Epoch 53/100\n",
      "744/744 [==============================] - 1s 2ms/step - loss: 0.5864 - accuracy: 0.6857 - val_loss: 0.6299 - val_accuracy: 0.6566\n",
      "Epoch 54/100\n",
      "744/744 [==============================] - 1s 2ms/step - loss: 0.5862 - accuracy: 0.6841 - val_loss: 0.6280 - val_accuracy: 0.6532\n",
      "Epoch 55/100\n",
      "744/744 [==============================] - 1s 2ms/step - loss: 0.5855 - accuracy: 0.6849 - val_loss: 0.6336 - val_accuracy: 0.6533\n",
      "Epoch 56/100\n",
      "744/744 [==============================] - 1s 2ms/step - loss: 0.5844 - accuracy: 0.6878 - val_loss: 0.6284 - val_accuracy: 0.6549\n",
      "Epoch 57/100\n",
      "744/744 [==============================] - 1s 2ms/step - loss: 0.5842 - accuracy: 0.6845 - val_loss: 0.6306 - val_accuracy: 0.6498\n",
      "Epoch 58/100\n",
      "744/744 [==============================] - 1s 2ms/step - loss: 0.5824 - accuracy: 0.6856 - val_loss: 0.6314 - val_accuracy: 0.6499\n",
      "Epoch 59/100\n",
      "744/744 [==============================] - 1s 2ms/step - loss: 0.5830 - accuracy: 0.6861 - val_loss: 0.6342 - val_accuracy: 0.6462\n",
      "Epoch 60/100\n",
      "744/744 [==============================] - 1s 2ms/step - loss: 0.5807 - accuracy: 0.6866 - val_loss: 0.6406 - val_accuracy: 0.6436\n",
      "Epoch 61/100\n",
      "744/744 [==============================] - 1s 2ms/step - loss: 0.5813 - accuracy: 0.6877 - val_loss: 0.6317 - val_accuracy: 0.6484\n",
      "Epoch 62/100\n",
      "744/744 [==============================] - 1s 2ms/step - loss: 0.5795 - accuracy: 0.6851 - val_loss: 0.6400 - val_accuracy: 0.6508\n",
      "Epoch 63/100\n",
      "744/744 [==============================] - 1s 2ms/step - loss: 0.5791 - accuracy: 0.6880 - val_loss: 0.6320 - val_accuracy: 0.6534\n",
      "Epoch 64/100\n",
      "744/744 [==============================] - 1s 2ms/step - loss: 0.5791 - accuracy: 0.6918 - val_loss: 0.6363 - val_accuracy: 0.6430\n",
      "Epoch 65/100\n",
      "744/744 [==============================] - 1s 2ms/step - loss: 0.5770 - accuracy: 0.6896 - val_loss: 0.6447 - val_accuracy: 0.6416\n",
      "Epoch 66/100\n",
      "744/744 [==============================] - 1s 2ms/step - loss: 0.5767 - accuracy: 0.6872 - val_loss: 0.6351 - val_accuracy: 0.6474\n",
      "Epoch 67/100\n",
      "744/744 [==============================] - 1s 2ms/step - loss: 0.5763 - accuracy: 0.6907 - val_loss: 0.6357 - val_accuracy: 0.6464\n",
      "Epoch 68/100\n",
      "744/744 [==============================] - 1s 2ms/step - loss: 0.5757 - accuracy: 0.6924 - val_loss: 0.6365 - val_accuracy: 0.6486\n",
      "Epoch 69/100\n",
      "744/744 [==============================] - 1s 2ms/step - loss: 0.5750 - accuracy: 0.6901 - val_loss: 0.6407 - val_accuracy: 0.6490\n",
      "Epoch 70/100\n",
      "744/744 [==============================] - 1s 2ms/step - loss: 0.5739 - accuracy: 0.6929 - val_loss: 0.6438 - val_accuracy: 0.6465\n",
      "Epoch 71/100\n",
      "744/744 [==============================] - 1s 2ms/step - loss: 0.5736 - accuracy: 0.6910 - val_loss: 0.6404 - val_accuracy: 0.6537\n",
      "Epoch 72/100\n",
      "744/744 [==============================] - 1s 2ms/step - loss: 0.5735 - accuracy: 0.6938 - val_loss: 0.6450 - val_accuracy: 0.6462\n",
      "Epoch 73/100\n",
      "744/744 [==============================] - 1s 2ms/step - loss: 0.5737 - accuracy: 0.6939 - val_loss: 0.6405 - val_accuracy: 0.6562\n",
      "Epoch 74/100\n",
      "744/744 [==============================] - 1s 2ms/step - loss: 0.5724 - accuracy: 0.6914 - val_loss: 0.6383 - val_accuracy: 0.6504\n",
      "Epoch 75/100\n",
      "744/744 [==============================] - 1s 2ms/step - loss: 0.5716 - accuracy: 0.6933 - val_loss: 0.6350 - val_accuracy: 0.6505\n",
      "Epoch 76/100\n",
      "744/744 [==============================] - 1s 2ms/step - loss: 0.5703 - accuracy: 0.6955 - val_loss: 0.6486 - val_accuracy: 0.6566\n",
      "Epoch 77/100\n",
      "744/744 [==============================] - 1s 2ms/step - loss: 0.5694 - accuracy: 0.6971 - val_loss: 0.6433 - val_accuracy: 0.6499\n",
      "Epoch 78/100\n",
      "744/744 [==============================] - 1s 2ms/step - loss: 0.5678 - accuracy: 0.6960 - val_loss: 0.6528 - val_accuracy: 0.6450\n",
      "Epoch 79/100\n",
      "744/744 [==============================] - 1s 2ms/step - loss: 0.5682 - accuracy: 0.6987 - val_loss: 0.6487 - val_accuracy: 0.6495\n",
      "Epoch 80/100\n",
      "744/744 [==============================] - 1s 2ms/step - loss: 0.5684 - accuracy: 0.6955 - val_loss: 0.6491 - val_accuracy: 0.6490\n",
      "Epoch 81/100\n",
      "744/744 [==============================] - 1s 2ms/step - loss: 0.5680 - accuracy: 0.6955 - val_loss: 0.6468 - val_accuracy: 0.6495\n",
      "Epoch 82/100\n",
      "744/744 [==============================] - 1s 2ms/step - loss: 0.5675 - accuracy: 0.6973 - val_loss: 0.6511 - val_accuracy: 0.6481\n",
      "Epoch 83/100\n",
      "744/744 [==============================] - 1s 2ms/step - loss: 0.5657 - accuracy: 0.6980 - val_loss: 0.6464 - val_accuracy: 0.6432\n",
      "Epoch 84/100\n",
      "744/744 [==============================] - 1s 2ms/step - loss: 0.5652 - accuracy: 0.6991 - val_loss: 0.6463 - val_accuracy: 0.6484\n",
      "Epoch 85/100\n",
      "744/744 [==============================] - 1s 2ms/step - loss: 0.5656 - accuracy: 0.6979 - val_loss: 0.6444 - val_accuracy: 0.6470\n",
      "Epoch 86/100\n",
      "744/744 [==============================] - 1s 2ms/step - loss: 0.5637 - accuracy: 0.7011 - val_loss: 0.6437 - val_accuracy: 0.6501\n",
      "Epoch 87/100\n",
      "744/744 [==============================] - 1s 2ms/step - loss: 0.5652 - accuracy: 0.6995 - val_loss: 0.6450 - val_accuracy: 0.6498\n",
      "Epoch 88/100\n",
      "744/744 [==============================] - 1s 2ms/step - loss: 0.5635 - accuracy: 0.6982 - val_loss: 0.6491 - val_accuracy: 0.6403\n",
      "Epoch 89/100\n",
      "744/744 [==============================] - 1s 2ms/step - loss: 0.5625 - accuracy: 0.7000 - val_loss: 0.6544 - val_accuracy: 0.6483\n",
      "Epoch 90/100\n",
      "744/744 [==============================] - 1s 2ms/step - loss: 0.5613 - accuracy: 0.7020 - val_loss: 0.6592 - val_accuracy: 0.6408\n",
      "Epoch 91/100\n",
      "744/744 [==============================] - 1s 2ms/step - loss: 0.5621 - accuracy: 0.7026 - val_loss: 0.6557 - val_accuracy: 0.6504\n",
      "Epoch 92/100\n",
      "744/744 [==============================] - 1s 2ms/step - loss: 0.5616 - accuracy: 0.7004 - val_loss: 0.6525 - val_accuracy: 0.6509\n",
      "Epoch 93/100\n",
      "744/744 [==============================] - 1s 2ms/step - loss: 0.5604 - accuracy: 0.7014 - val_loss: 0.6574 - val_accuracy: 0.6505\n",
      "Epoch 94/100\n",
      "744/744 [==============================] - 2s 2ms/step - loss: 0.5594 - accuracy: 0.7016 - val_loss: 0.6503 - val_accuracy: 0.6469\n",
      "Epoch 95/100\n",
      "744/744 [==============================] - 2s 2ms/step - loss: 0.5581 - accuracy: 0.7065 - val_loss: 0.6602 - val_accuracy: 0.6446\n",
      "Epoch 96/100\n",
      "744/744 [==============================] - 2s 2ms/step - loss: 0.5583 - accuracy: 0.7056 - val_loss: 0.6626 - val_accuracy: 0.6406\n",
      "Epoch 97/100\n",
      "744/744 [==============================] - 2s 2ms/step - loss: 0.5573 - accuracy: 0.7027 - val_loss: 0.6650 - val_accuracy: 0.6411\n",
      "Epoch 98/100\n",
      "744/744 [==============================] - 2s 2ms/step - loss: 0.5574 - accuracy: 0.7042 - val_loss: 0.6537 - val_accuracy: 0.6452\n",
      "Epoch 99/100\n",
      "744/744 [==============================] - 2s 2ms/step - loss: 0.5575 - accuracy: 0.7024 - val_loss: 0.6547 - val_accuracy: 0.6456\n",
      "Epoch 100/100\n",
      "744/744 [==============================] - 2s 2ms/step - loss: 0.5559 - accuracy: 0.7031 - val_loss: 0.6525 - val_accuracy: 0.6486\n"
     ]
    }
   ],
   "source": [
    "# Training the original model\n",
    "model = create_model()\n",
    "history = model.fit(xtrain_scale, ytrain_scale, epochs=100, validation_split=0.25)"
   ]
  },
  {
   "cell_type": "code",
   "execution_count": 23,
   "metadata": {},
   "outputs": [
    {
     "data": {
      "image/png": "[encoded data removed]",
      "text/plain": [
       "<Figure size 432x288 with 1 Axes>"
      ]
     },
     "metadata": {
      "needs_background": "light"
     },
     "output_type": "display_data"
    },
    {
     "name": "stdout",
     "output_type": "stream",
     "text": [
      "Accuracy on training data: 0.6960744261741638\n",
      "Error on training data: 0.3039255738258362\n",
      "\n",
      "Accuracy on testing data: 0.6145793795585632\n",
      "Error on testing data: 0.38542062044143677\n",
      "\n",
      "Accuracy: 0.6145793921049313\n",
      "Precision: 0.5747526566507878\n",
      "Recall: 0.8101756198347108\n",
      "F1-score: 0.6724544480171489\n"
     ]
    }
   ],
   "source": [
    "graph_acc(history, 'og-model', save=True, model=model)\n",
    "score(model)"
   ]
  },
  {
   "cell_type": "markdown",
   "metadata": {},
   "source": [
    "# Hyperparameter Tuning using GridSearchCV"
   ]
  },
  {
   "cell_type": "code",
   "execution_count": null,
   "metadata": {},
   "outputs": [],
   "source": [
    "hyper_model = KerasClassifier(build_fn=create_model, epochs=100, verbose=0)\n",
    "\n",
    "# Hyperparameters and specified values\n",
    "neurons = [5, 10, 15, 20, 25, 30]\n",
    "epochs = [25, 50, 100, 250, 500]                      \n",
    "optimizer = ['sgd', 'adam', 'rmsprop']\n",
    "\n",
    "param_grid = dict(\n",
    "    neurons = neurons,\n",
    "    epochs = epochs,\n",
    "    optimizer = optimizer\n",
    ")\n",
    "\n",
    "grid = GridSearchCV(estimator=hyper_model, param_grid=param_grid, n_jobs=-1, cv=5)\n",
    "grid_result = grid.fit(xtrain_scale, ytrain_scale)\n",
    "\n",
    "print(\"Best: %f using %s\" % (grid_result.best_score_, grid_result.best_params_))\n",
    "\n",
    "means = grid_result.cv_results_['mean_test_score']\n",
    "stds = grid_result.cv_results_['std_test_score']\n",
    "params = grid_result.cv_results_['params']\n",
    "\n",
    "for mean, stdev, param in zip(means, stds, params):\n",
    "    print(\"%f (%f) with: %r\" % (mean, stdev, param))"
   ]
  },
  {
   "cell_type": "markdown",
   "metadata": {},
   "source": [
    "Fewer hidden layer units and number of epochs == better?\n",
    "SGD option for optimizing dropped since it consistently performs lower at fewer epochs than adam, rmsprop"
   ]
  },
  {
   "cell_type": "code",
   "execution_count": null,
   "metadata": {},
   "outputs": [],
   "source": [
    "# Round 2\n",
    "hyper_model = KerasClassifier(build_fn=create_model, epochs=100, verbose=0)\n",
    "\n",
    "neurons = [1, 2, 3, 4, 5]\n",
    "epochs = [20, 21, 22, 23, 24, 25]\n",
    "optimizer = ['adam', 'rmsprop']\n",
    "\n",
    "param_grid = dict(\n",
    "    neurons = neurons,\n",
    "    epochs = epochs,\n",
    "    optimizer = optimizer\n",
    ")\n",
    "\n",
    "grid = GridSearchCV(estimator=hyper_model, param_grid=param_grid, n_jobs=-1, cv=5)\n",
    "grid_result = grid.fit(xtrain_scale, ytrain_scale)\n",
    "\n",
    "print(\"Best: %f using %s\" % (grid_result.best_score_, grid_result.best_params_))\n",
    "\n",
    "means = grid_result.cv_results_['mean_test_score']\n",
    "stds = grid_result.cv_results_['std_test_score']\n",
    "params = grid_result.cv_results_['params']\n",
    "\n",
    "for mean, stdev, param in zip(means, stds, params):\n",
    "    print(\"%f (%f) with: %r\" % (mean, stdev, param))"
   ]
  },
  {
   "cell_type": "code",
   "execution_count": 13,
   "metadata": {},
   "outputs": [
    {
     "name": "stdout",
     "output_type": "stream",
     "text": [
      "Epoch 1/24\n",
      "744/744 [==============================] - 2s 2ms/step - loss: 0.6547 - accuracy: 0.6132 - val_loss: 0.6405 - val_accuracy: 0.6369\n",
      "Epoch 2/24\n",
      "744/744 [==============================] - 1s 2ms/step - loss: 0.6433 - accuracy: 0.6326 - val_loss: 0.6405 - val_accuracy: 0.6370\n",
      "Epoch 3/24\n",
      "744/744 [==============================] - 1s 2ms/step - loss: 0.6408 - accuracy: 0.6374 - val_loss: 0.6360 - val_accuracy: 0.6382\n",
      "Epoch 4/24\n",
      "744/744 [==============================] - 1s 2ms/step - loss: 0.6383 - accuracy: 0.6368 - val_loss: 0.6344 - val_accuracy: 0.6477\n",
      "Epoch 5/24\n",
      "744/744 [==============================] - 1s 2ms/step - loss: 0.6361 - accuracy: 0.6400 - val_loss: 0.6317 - val_accuracy: 0.6452\n",
      "Epoch 6/24\n",
      "744/744 [==============================] - 1s 2ms/step - loss: 0.6346 - accuracy: 0.6420 - val_loss: 0.6302 - val_accuracy: 0.6519\n",
      "Epoch 7/24\n",
      "744/744 [==============================] - 1s 2ms/step - loss: 0.6323 - accuracy: 0.6444 - val_loss: 0.6426 - val_accuracy: 0.6447\n",
      "Epoch 8/24\n",
      "744/744 [==============================] - 1s 2ms/step - loss: 0.6314 - accuracy: 0.6444 - val_loss: 0.6306 - val_accuracy: 0.6503\n",
      "Epoch 9/24\n",
      "744/744 [==============================] - 1s 2ms/step - loss: 0.6298 - accuracy: 0.6441 - val_loss: 0.6312 - val_accuracy: 0.6549\n",
      "Epoch 10/24\n",
      "744/744 [==============================] - 1s 2ms/step - loss: 0.6283 - accuracy: 0.6494 - val_loss: 0.6264 - val_accuracy: 0.6536\n",
      "Epoch 11/24\n",
      "744/744 [==============================] - 1s 2ms/step - loss: 0.6271 - accuracy: 0.6471 - val_loss: 0.6389 - val_accuracy: 0.6348\n",
      "Epoch 12/24\n",
      "744/744 [==============================] - 1s 2ms/step - loss: 0.6261 - accuracy: 0.6478 - val_loss: 0.6276 - val_accuracy: 0.6508\n",
      "Epoch 13/24\n",
      "744/744 [==============================] - 1s 2ms/step - loss: 0.6237 - accuracy: 0.6508 - val_loss: 0.6237 - val_accuracy: 0.6611\n",
      "Epoch 14/24\n",
      "744/744 [==============================] - 1s 2ms/step - loss: 0.6238 - accuracy: 0.6531 - val_loss: 0.6304 - val_accuracy: 0.6451\n",
      "Epoch 15/24\n",
      "744/744 [==============================] - 1s 2ms/step - loss: 0.6225 - accuracy: 0.6531 - val_loss: 0.6218 - val_accuracy: 0.6620\n",
      "Epoch 16/24\n",
      "744/744 [==============================] - 1s 2ms/step - loss: 0.6216 - accuracy: 0.6562 - val_loss: 0.6225 - val_accuracy: 0.6580\n",
      "Epoch 17/24\n",
      "744/744 [==============================] - 1s 2ms/step - loss: 0.6203 - accuracy: 0.6569 - val_loss: 0.6309 - val_accuracy: 0.6504\n",
      "Epoch 18/24\n",
      "744/744 [==============================] - 1s 2ms/step - loss: 0.6191 - accuracy: 0.6570 - val_loss: 0.6198 - val_accuracy: 0.6614\n",
      "Epoch 19/24\n",
      "744/744 [==============================] - 1s 2ms/step - loss: 0.6186 - accuracy: 0.6574 - val_loss: 0.6240 - val_accuracy: 0.6498\n",
      "Epoch 20/24\n",
      "744/744 [==============================] - 1s 2ms/step - loss: 0.6173 - accuracy: 0.6590 - val_loss: 0.6211 - val_accuracy: 0.6586\n",
      "Epoch 21/24\n",
      "744/744 [==============================] - 1s 2ms/step - loss: 0.6172 - accuracy: 0.6591 - val_loss: 0.6182 - val_accuracy: 0.6601\n",
      "Epoch 22/24\n",
      "744/744 [==============================] - 1s 2ms/step - loss: 0.6163 - accuracy: 0.6606 - val_loss: 0.6224 - val_accuracy: 0.6610\n",
      "Epoch 23/24\n",
      "744/744 [==============================] - 1s 2ms/step - loss: 0.6155 - accuracy: 0.6596 - val_loss: 0.6204 - val_accuracy: 0.6619\n",
      "Epoch 24/24\n",
      "744/744 [==============================] - 1s 2ms/step - loss: 0.6150 - accuracy: 0.6595 - val_loss: 0.6177 - val_accuracy: 0.6588\n"
     ]
    }
   ],
   "source": [
    "# Training the tuned model\n",
    "tuned_model = create_model(optimizer='rmsprop', neurons=5)\n",
    "tuned_history = tuned_model.fit(xtrain_scale, ytrain_scale, epochs=24, validation_split=0.25)"
   ]
  },
  {
   "cell_type": "code",
   "execution_count": 24,
   "metadata": {},
   "outputs": [
    {
     "data": {
      "image/png": "[encoded data removed]",
      "text/plain": [
       "<Figure size 432x288 with 1 Axes>"
      ]
     },
     "metadata": {
      "needs_background": "light"
     },
     "output_type": "display_data"
    },
    {
     "name": "stdout",
     "output_type": "stream",
     "text": [
      "Accuracy on training data: 0.665205717086792\n",
      "Error on training data: 0.334794282913208\n",
      "\n",
      "Accuracy on testing data: 0.610795795917511\n",
      "Error on testing data: 0.389204204082489\n",
      "\n",
      "Accuracy: 0.6107958128389457\n",
      "Precision: 0.566723259762309\n",
      "Recall: 0.8620867768595041\n",
      "F1-score: 0.6838762548658062\n"
     ]
    }
   ],
   "source": [
    "# Graph accuracy of tuned model and evaluate\n",
    "graph_acc(tuned_history, 'tuned-model', save=True, model=tuned_model)\n",
    "\n",
    "# Validate model accuracy and evaluate precision, recall, f1\n",
    "score(tuned_model)"
   ]
  },
  {
   "cell_type": "code",
   "execution_count": 25,
   "metadata": {},
   "outputs": [],
   "source": [
    "og_model = load_model('og-model.h5')\n",
    "\n",
    "for i, layer in enumerate(og_model.layers):\n",
    "    layer_weights = layer.get_weights()\n",
    "    pd.DataFrame(layer_weights[0]).to_csv('data/og-model-weights.csv', mode='a')\n"
   ]
  },
  {
   "cell_type": "code",
   "execution_count": 26,
   "metadata": {},
   "outputs": [],
   "source": [
    "tuned_model = load_model('tuned-model.h5')\n",
    "\n",
    "for i, layer in enumerate(og_model.layers):\n",
    "    layer_weights = layer.get_weights()\n",
    "    pd.DataFrame(layer_weights[0]).to_csv('data/tuned-model-weights.csv', mode='a')"
   ]
  }
 ],
 "metadata": {
  "interpreter": {
   "hash": "8aedbe2aff55112830b24b3c99f9ec09deedd21190ff310d55a9af89b6e01bf8"
  },
  "kernelspec": {
   "display_name": "Python 3.9.7 64-bit ('tf': conda)",
   "language": "python",
   "name": "python3"
  },
  "language_info": {
   "codemirror_mode": {
    "name": "ipython",
    "version": 3
   },
   "file_extension": ".py",
   "mimetype": "text/x-python",
   "name": "python",
   "nbconvert_exporter": "python",
   "pygments_lexer": "ipython3",
   "version": "3.9.7"
  },
  "orig_nbformat": 4
 },
 "nbformat": 4,
 "nbformat_minor": 2
}
